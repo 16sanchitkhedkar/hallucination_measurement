{
 "cells": [
  {
   "cell_type": "code",
   "execution_count": null,
   "metadata": {},
   "outputs": [],
   "source": [
    "#!pip install torch\n",
    "#!pip install transformers"
   ]
  },
  {
   "cell_type": "code",
   "execution_count": null,
   "metadata": {},
   "outputs": [],
   "source": [
    "from transformers import AutoTokenizer, AutoModelForCausalLM\n",
    "\n",
    "tokenizer = AutoTokenizer.from_pretrained(\"gpt2-large\")\n",
    "\n",
    "model = AutoModelForCausalLM.from_pretrained(\"gpt2-large\")"
   ]
  },
  {
   "cell_type": "code",
   "execution_count": null,
   "metadata": {},
   "outputs": [],
   "source": [
    "prompt = \"\"\n",
    "result_length = 200\n",
    "inputs = tokenizer.encode(prompt, add_special_tokens=False, return_tensors=\"pt\")"
   ]
  },
  {
   "cell_type": "code",
   "execution_count": null,
   "metadata": {},
   "outputs": [],
   "source": [
    "%%time\n",
    "gpt2-large = tokenizer.decode(model.generate(inputs, max_length=result_length, do_sample=True, top_k=50, top_p=0.95, temperature=1.1, num_return_sequences=1)[0], skip_special_tokens=True)\n",
    "chars_per_line = 75\n",
    "print('Question: ', prompt)\n",
    "print('Answer: ')\n",
    "for i in range(0, len(gpt2-large), chars_per_line):\n",
    "    print(gpt2-large[i:i+chars_per_line])"
   ]
  }
 ],
 "metadata": {
  "language_info": {
   "name": "python"
  },
  "orig_nbformat": 4
 },
 "nbformat": 4,
 "nbformat_minor": 2
}
