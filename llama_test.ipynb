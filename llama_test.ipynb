{
 "cells": [
  {
   "cell_type": "code",
   "execution_count": null,
   "metadata": {},
   "outputs": [],
   "source": [
    "'''\n",
    "!pip -q install datasets\n",
    "!pip -q install loralib\n",
    "!pip -q install sentencepiece\n",
    "!pip -q install bitsandbytes\n",
    "!pip -q install accelerate\n",
    "\n",
    "'''"
   ]
  },
  {
   "cell_type": "code",
   "execution_count": null,
   "metadata": {},
   "outputs": [],
   "source": [
    "'''\n",
    "\n",
    "!pip install git+https://github.com/huggingface/transformers\n",
    "!pip -q install git+https://github.com/huggingface/peft.git\n",
    "\n",
    "'''"
   ]
  },
  {
   "cell_type": "code",
   "execution_count": null,
   "metadata": {},
   "outputs": [],
   "source": [
    "# from peft import PeftModel\n",
    "from transformers import LlamaTokenizer, LlamaForCausalLM, GenerationConfig\n",
    "\n",
    "tokenizer = LlamaTokenizer.from_pretrained(\"decapoda-research/llama-7b-hf\")\n",
    "model = LlamaForCausalLM.from_pretrained(\"decapoda-research/llama-7b-hf\")\n",
    "# model = PeftModel.from_pretrained(model, \"tloen/alpaca-lora-7b\")"
   ]
  },
  {
   "cell_type": "code",
   "execution_count": null,
   "metadata": {},
   "outputs": [],
   "source": [
    "def generate_prompt(text):\n",
    "  inputs = tokenizer(text,return_tensors='pt')\n",
    "  input_ids = inputs['input_ids'].cuda()\n",
    "\n",
    "  generation_config = GenerationConfig(\n",
    "      temperature=0.6,\n",
    "      top_p=0.95,\n",
    "      repetition_penalty=1.2\n",
    "  )\n",
    "\n",
    "  print('creating a response')\n",
    "\n",
    "  generation_output = model.generate(\n",
    "      input_ids = input_ids,\n",
    "      generation_config = generation_config,\n",
    "      return_dict_in_generate = True,\n",
    "      output_scores=True,\n",
    "      max_new_tokens=256\n",
    "  )\n",
    "\n",
    "  for s in generation_output.sequences:\n",
    "    output = tokenizer.decode(s)\n",
    "    print('response: ', output.split('### Response:')[1].strip() )\n"
   ]
  },
  {
   "cell_type": "code",
   "execution_count": null,
   "metadata": {},
   "outputs": [],
   "source": [
    "input_text = f\"\"\"Below is an instruction that describes a task. Write a response that appropriately completes the request.\n",
    "\n",
    "### Instruction:\n",
    "could you write some python code to print the sequence of fibonacci ?\n",
    "\n",
    "### Response:\"\"\"\n",
    "generate_prompt(input_text)"
   ]
  }
 ],
 "metadata": {
  "language_info": {
   "name": "python"
  },
  "orig_nbformat": 4
 },
 "nbformat": 4,
 "nbformat_minor": 2
}
